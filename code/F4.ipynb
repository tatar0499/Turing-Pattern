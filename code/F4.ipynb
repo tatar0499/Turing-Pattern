{
 "cells": [
  {
   "attachments": {},
   "cell_type": "markdown",
   "metadata": {},
   "source": [
    "# Figure 4: Boxplots"
   ]
  },
  {
   "cell_type": "code",
   "execution_count": 1,
   "metadata": {},
   "outputs": [],
   "source": [
    "import pandas as pd\n",
    "import numpy as np\n",
    "from scipy.stats import distributions\n",
    "import statistics\n",
    "from scipy.stats import skew, kurtosis\n",
    "import matplotlib.pyplot as plt\n",
    "import random\n",
    "import sympy as sp\n",
    "from scipy.signal import argrelextrema\n",
    "from sympy.utilities import lambdify\n",
    "from fitter import Fitter, get_common_distributions, get_distributions\n",
    "import scipy.stats "
   ]
  },
  {
   "attachments": {},
   "cell_type": "markdown",
   "metadata": {},
   "source": [
    "Data "
   ]
  },
  {
   "cell_type": "code",
   "execution_count": 2,
   "metadata": {},
   "outputs": [],
   "source": [
    "# 2x2\n",
    "path2 = '/Users/aibekk99/Desktop/publication/code/2x2tr.csv'\n",
    "data2 = pd.read_csv(path2)\n",
    "# 3x3: 1,2 \n",
    "path31 = '/Users/aibekk99/Desktop/repository/code/3x3tr.csv'\n",
    "data31 = pd.read_csv(path31)\n",
    "path32 = '/Users/aibekk99/Desktop/repository/code/3x3tr_2.csv'\n",
    "data32 = pd.read_csv(path32)\n",
    "# 4x4: 1,2 \n",
    "path41 = '/Users/aibekk99/Desktop/repository/pizda/fig2/4x4tr.csv'\n",
    "data41 = pd.read_csv(path41)\n",
    "path42 = '/Users/aibekk99/Desktop/repository/pizda/1/run1/4x4tr_2.csv'\n",
    "data42 = pd.read_csv(path42)\n",
    "path43 = '/Users/aibekk99/Desktop/repository/pizda/1/run2/4x4tr_3.csv'\n",
    "data43 = pd.read_csv(path43)"
   ]
  },
  {
   "attachments": {},
   "cell_type": "markdown",
   "metadata": {},
   "source": [
    "Statistics"
   ]
  },
  {
   "cell_type": "code",
   "execution_count": 3,
   "metadata": {},
   "outputs": [],
   "source": [
    "mean = [statistics.mean(data2['Second Entry'].tolist()),statistics.mean(data2['Third Entry'].tolist()),\n",
    "        statistics.mean(data31['2nd'].tolist()),statistics.mean(data31['3rd'].tolist()),statistics.mean(data31['4th'].tolist()),\n",
    "       statistics.mean(data31['6th'].tolist()), statistics.mean(data31['7th'].tolist()), statistics.mean(data31['8th'].tolist()),\n",
    "       statistics.mean(data32['2nd'].tolist()),statistics.mean(data32['3rd'].tolist()),statistics.mean(data32['4th'].tolist()),\n",
    "       statistics.mean(data32['6th'].tolist()), statistics.mean(data32['7th'].tolist()), statistics.mean(data32['8th'].tolist()),\n",
    "      statistics.mean(data41['2nd'].tolist()),statistics.mean(data41['3rd'].tolist()), statistics.mean(data41['4th'].tolist()), statistics.mean(data41['5th'].tolist()),\n",
    "      statistics.mean(data41['7th'].tolist()), statistics.mean(data41['8th'].tolist()), statistics.mean(data41['9th'].tolist()),\n",
    "      statistics.mean(data41['10th'].tolist()), statistics.mean(data41['12th'].tolist()), statistics.mean(data41['13th'].tolist()),\n",
    "      statistics.mean(data41['14th'].tolist()), statistics.mean(data41['15th'].tolist()),\n",
    "      statistics.mean(data42['2nd'].tolist()),statistics.mean(data42['3rd'].tolist()), statistics.mean(data42['4th'].tolist()), statistics.mean(data42['5th'].tolist()),\n",
    "      statistics.mean(data42['7th'].tolist()), statistics.mean(data42['8th'].tolist()), statistics.mean(data42['9th'].tolist()),\n",
    "      statistics.mean(data42['10th'].tolist()), statistics.mean(data42['12th'].tolist()), statistics.mean(data42['13th'].tolist()),\n",
    "      statistics.mean(data42['14th'].tolist()), statistics.mean(data42['15th'].tolist()),\n",
    "      statistics.mean(data43['2nd'].tolist()),statistics.mean(data43['3rd'].tolist()), statistics.mean(data43['4th'].tolist()), statistics.mean(data43['5th'].tolist()),\n",
    "      statistics.mean(data43['7th'].tolist()), statistics.mean(data43['8th'].tolist()), statistics.mean(data43['9th'].tolist()),\n",
    "      statistics.mean(data43['10th'].tolist()), statistics.mean(data43['12th'].tolist()), statistics.mean(data43['13th'].tolist()),\n",
    "      statistics.mean(data43['14th'].tolist()), statistics.mean(data43['15th'].tolist()),]\n",
    "\n",
    "variance = [np.var(data2['Second Entry'].tolist()),np.var(data2['Third Entry'].tolist()),\n",
    "        np.var(data31['2nd'].tolist()),np.var(data31['3rd'].tolist()),np.var(data31['4th'].tolist()),\n",
    "       np.var(data31['6th'].tolist()), np.var(data31['7th'].tolist()), np.var(data31['8th'].tolist()),\n",
    "       np.var(data32['2nd'].tolist()),np.var(data32['3rd'].tolist()),np.var(data32['4th'].tolist()),\n",
    "       np.var(data32['6th'].tolist()), np.var(data32['7th'].tolist()), np.var(data32['8th'].tolist()),\n",
    "      np.var(data41['2nd'].tolist()),np.var(data41['3rd'].tolist()), np.var(data41['4th'].tolist()),np.var(data41['5th'].tolist()),\n",
    "      np.var(data41['7th'].tolist()), np.var(data41['8th'].tolist()), np.var(data41['9th'].tolist()),\n",
    "      np.var(data41['10th'].tolist()), np.var(data41['12th'].tolist()), np.var(data41['13th'].tolist()),\n",
    "      np.var(data41['14th'].tolist()), np.var(data41['15th'].tolist()),\n",
    "      np.var(data42['2nd'].tolist()),np.var(data42['3rd'].tolist()), np.var(data42['4th'].tolist()),np.var(data42['5th'].tolist()),\n",
    "      np.var(data42['7th'].tolist()), np.var(data42['8th'].tolist()), np.var(data42['9th'].tolist()),\n",
    "      np.var(data42['10th'].tolist()), np.var(data42['12th'].tolist()), np.var(data42['13th'].tolist()),\n",
    "      np.var(data42['14th'].tolist()), np.var(data42['15th'].tolist()),\n",
    "      np.var(data43['2nd'].tolist()),np.var(data43['3rd'].tolist()), np.var(data43['4th'].tolist()),np.var(data43['5th'].tolist()),\n",
    "      np.var(data43['7th'].tolist()), np.var(data43['8th'].tolist()), np.var(data43['9th'].tolist()),\n",
    "      np.var(data43['10th'].tolist()), np.var(data43['12th'].tolist()), np.var(data43['13th'].tolist()),\n",
    "      np.var(data43['14th'].tolist()), np.var(data43['15th'].tolist()),]\n"
   ]
  },
  {
   "cell_type": "code",
   "execution_count": 17,
   "metadata": {},
   "outputs": [
    {
     "name": "stdout",
     "output_type": "stream",
     "text": [
      "50\n",
      "6 6 12 24\n"
     ]
    }
   ],
   "source": [
    "print(len(mean))\n",
    "mean2 = mean[0:2]\n",
    "mean31 = mean[2:8]\n",
    "mean32 = mean[8:14]\n",
    "mean41 = mean[14:26]\n",
    "mean42 = mean[26:]\n",
    "print(len(mean31), len(mean32), len(mean41), len(mean42))"
   ]
  },
  {
   "cell_type": "code",
   "execution_count": 4,
   "metadata": {},
   "outputs": [],
   "source": [
    "mean2 = mean[0:2]\n",
    "mean31 = mean[2:8]\n",
    "mean32 = mean[8:14]\n",
    "mean41 = mean[14:26]\n",
    "mean42 = mean[26:38]\n",
    "mean43 = mean[38:]\n",
    "\n",
    "mean3 = []\n",
    "mean3.extend(mean31)\n",
    "mean3.extend(mean32)\n",
    "mean4 = []\n",
    "mean4.extend(mean41)\n",
    "mean4.extend(mean42)\n",
    "mean4.extend(mean43)\n",
    "\n",
    "var2 = variance[0:2] \n",
    "var31 = variance[2:8]\n",
    "var32 = variance[8:14]\n",
    "var41 = variance[14:26]\n",
    "var42 = variance[26:38]\n",
    "var43 = variance[38:]\n",
    "\n",
    "var3 = []\n",
    "var3.extend(var31)\n",
    "var3.extend(var32)\n",
    "var4 = []\n",
    "var4.extend(var41)\n",
    "var4.extend(var42)\n",
    "var4.extend(var43)\n",
    "\n",
    "df_mean = [mean2, mean3, mean4]\n",
    "df_var = [var2, var3, var4]"
   ]
  },
  {
   "cell_type": "code",
   "execution_count": 5,
   "metadata": {},
   "outputs": [
    {
     "name": "stdout",
     "output_type": "stream",
     "text": [
      "[0.2916955066498927, -1.9271447031072306, -0.9886566610344373, -0.20101605972869116, 0.0, -0.26979021728383107, 0.25581449954873725, -1.4152088941363976, -0.8619113672434869, -0.2025881960733167, 0.0, -0.25751529948029905]\n",
      "[0.348137985348786, -2.3069126915719598, 0.0, -0.44136923962530206, -0.16485038854282125, 0.015490187561091147, 0.0, -0.20675633328551543, 0.0, 0.4526102173010487, 0.0, 0.0, 0.27535953800668383, -2.4171337131104473, 0.0, -0.518657129025687, -0.18535856143711335, 0.028892342613420025, 0.0, -0.19437478499323424, 0.0, 0.411621031930283, 0.0, 0.0, 0.3415445014677751, -1.4717352293551453, 0.0, -0.5423102382268387, -0.19813823161077584, 0.013684626171910153, 0.0, -0.2447938780768228, 0.0, 0.5026876300415842, 0.0, 0.0]\n",
      "__\n",
      "[0.07204648317923974, 28.64643438209989, 3.4211983612402825, 0.01136123810474616, 0.0, 0.036006970481388345, 0.05906194583336324, 2.302478653269422, 1.7034619521386412, 0.01649497113651014, 0.0, 0.029565498892997977]\n",
      "[0.2854264172369276, 43.237832999091495, 0.0, 0.17490817795705488, 0.011780226285540846, 0.0009264955858585583, 0.0, 0.07572366646863697, 0.0, 0.4536256113858411, 0.0, 0.0, 0.07255964977551141, 34.06924143797653, 0.0, 0.29850534230542386, 0.017494775260636617, 0.004929014294114501, 0.0, 0.029435668922901857, 0.0, 0.24340313706371633, 0.0, 0.0, 0.1709059120550148, 3.274190166948212, 0.0, 0.5078784503196812, 0.021023189760893318, 0.0008290192197609262, 0.0, 0.06268981955434173, 0.0, 0.22269260176308547, 0.0, 0.0]\n"
     ]
    }
   ],
   "source": [
    "print(mean3)\n",
    "print(mean4)\n",
    "print(\"__\")\n",
    "print(var3)\n",
    "print(var4)"
   ]
  },
  {
   "cell_type": "code",
   "execution_count": 13,
   "metadata": {},
   "outputs": [
    {
     "data": {
      "image/png": "[encoded data removed]",
      "text/plain": [
       "<Figure size 640x480 with 1 Axes>"
      ]
     },
     "metadata": {},
     "output_type": "display_data"
    }
   ],
   "source": [
    "df_mean = [mean2, mean3, mean4]\n",
    "#df_var = [var2, var3, var4]\n",
    "labels = ['2', '3', '4']\n",
    "bp = plt.boxplot(df_mean, labels=labels, showfliers=False)\n",
    "for median in bp['medians']:\n",
    "    median.set(color='black', linewidth=1)\n",
    "for element in ['boxes', 'whiskers', 'caps']:\n",
    "    plt.setp(plt.gca().get_lines(), linewidth=1.5)\n",
    "#plt.yscale('log')\n",
    "plt.xlabel('N', fontsize = 11)\n",
    "plt.ylabel('Mean', fontsize = 11)\n",
    "plt.axhline(y=0, linestyle='--', color='gray', alpha=0.5, zorder=0)\n",
    "\n",
    "plt.show()"
   ]
  },
  {
   "cell_type": "code",
   "execution_count": 12,
   "metadata": {},
   "outputs": [
    {
     "data": {
      "image/png": "[encoded data removed]",
      "text/plain": [
       "<Figure size 640x480 with 1 Axes>"
      ]
     },
     "metadata": {},
     "output_type": "display_data"
    }
   ],
   "source": [
    "df_var = [var2, var3, var4]\n",
    "labels = ['2', '3', '4']\n",
    "bp = plt.boxplot(df_var, labels=labels, showfliers=False)\n",
    "for median in bp['medians']:\n",
    "    median.set(color='black', linewidth=1)\n",
    "for element in ['boxes', 'whiskers', 'caps']:\n",
    "    plt.setp(plt.gca().get_lines(), linewidth=1.5)\n",
    "#plt.yscale('log')\n",
    "plt.xlabel('N', fontsize = 11)\n",
    "plt.ylabel('Variance', fontsize = 11)\n",
    "plt.axhline(y=0, linestyle='--', color='gray', alpha=0.5, zorder=0)\n",
    "\n",
    "plt.show()"
   ]
  },
  {
   "cell_type": "code",
   "execution_count": 36,
   "metadata": {},
   "outputs": [
    {
     "data": {
      "image/png": "[encoded data removed]",
      "text/plain": [
       "<Figure size 640x480 with 1 Axes>"
      ]
     },
     "metadata": {},
     "output_type": "display_data"
    }
   ],
   "source": [
    "df_var = [var2, var3, var4]\n",
    "labels = ['2', '3', '4']\n",
    "bp = plt.boxplot(df_var, labels=labels, showfliers=False)\n",
    "for median in bp['medians']:\n",
    "    median.set(color='black', linewidth=1)\n",
    "for element in ['boxes', 'whiskers', 'caps']:\n",
    "    plt.setp(plt.gca().get_lines(), linewidth=1.5)\n",
    "#plt.yscale('log')\n",
    "plt.xlabel('N', fontsize = 11)\n",
    "plt.ylabel('Variance', fontsize = 11)\n",
    "plt.axhline(y=0, linestyle='--', color='gray', alpha=0.5, zorder=0)\n",
    "\n",
    "plt.show()"
   ]
  },
  {
   "cell_type": "code",
   "execution_count": 22,
   "metadata": {},
   "outputs": [
    {
     "name": "stdout",
     "output_type": "stream",
     "text": [
      "[2.0081250746517396, 100.4415745554779]\n",
      "[11.387719435507083, 67.07077082946785, 51.08214255208475, 0.09445581168211481, nan, 19.87630061065184, 15.813181932030094, 9.660928258056122, 14.152721185678011, 3.807634919951165, nan, 6.175299227555437]\n",
      "[29.469507115504427, 63.14850617396101, nan, 17.500926042546464, 0.6571555197868455, 10.068422895046034, nan, 22.671728880620144, nan, 19.354815560486696, nan, 3.924881374969927, 56.894068091133626, nan, 19.413138571540788, 3.021400054693909, 25.60097395280693, nan, 7.7113796031116895, nan, 18.38012415033254, nan]\n"
     ]
    }
   ],
   "source": [
    "\n",
    "\n",
    "kr2_2 = kurtosis(data2['Second Entry'].tolist())\n",
    "kr2_3 = kurtosis(data2['Third Entry'].tolist())\n",
    "\n",
    "kr2 = []\n",
    "kr2.append(kr2_2)\n",
    "kr2.append(kr2_3)\n",
    "\n",
    "kr31_2 = kurtosis(data31['2nd'].tolist())\n",
    "kr31_3 = kurtosis(data31['3rd'].tolist())\n",
    "kr31_4 = kurtosis(data31['4th'].tolist())\n",
    "kr31_6 = kurtosis(data31['6th'].tolist())\n",
    "kr31_7 = kurtosis(data31['7th'].tolist())\n",
    "kr31_8 = kurtosis(data31['8th'].tolist())\n",
    "\n",
    "kr32_2 = kurtosis(data32['2nd'].tolist())\n",
    "kr32_3 = kurtosis(data32['3rd'].tolist())\n",
    "kr32_4 = kurtosis(data32['4th'].tolist())\n",
    "kr32_6 = kurtosis(data32['6th'].tolist())\n",
    "kr32_7 = kurtosis(data32['7th'].tolist())\n",
    "kr32_8 = kurtosis(data32['8th'].tolist())\n",
    "\n",
    "kr3 = []\n",
    "kr3.append(kr31_2)\n",
    "kr3.append(kr31_3)\n",
    "kr3.append(kr31_4)\n",
    "kr3.append(kr31_6)\n",
    "kr3.append(kr31_7)\n",
    "kr3.append(kr31_8)\n",
    "kr3.append(kr32_2)\n",
    "kr3.append(kr32_3)\n",
    "kr3.append(kr32_4)\n",
    "kr3.append(kr32_6)\n",
    "kr3.append(kr32_7)\n",
    "kr3.append(kr32_8)\n",
    "\n",
    "kr41_2 = kurtosis(data41['2nd'].tolist())\n",
    "kr41_3 = kurtosis(data41['3rd'].tolist())\n",
    "kr41_4 = kurtosis(data41['4th'].tolist())\n",
    "kr41_5 = kurtosis(data41['5th'].tolist())\n",
    "kr41_7 = kurtosis(data41['7th'].tolist())\n",
    "kr41_8 = kurtosis(data41['8th'].tolist())\n",
    "kr41_9 = kurtosis(data41['9th'].tolist())\n",
    "kr41_10 = kurtosis(data41['10th'].tolist())\n",
    "kr41_12 = kurtosis(data41['12th'].tolist())\n",
    "kr41_13 = kurtosis(data41['13th'].tolist())\n",
    "kr41_14 = kurtosis(data41['14th'].tolist())\n",
    "kr42_2 = kurtosis(data42['2nd'].tolist())\n",
    "kr42_3 = kurtosis(data42['3rd'].tolist())\n",
    "kr42_4 = kurtosis(data42['4th'].tolist())\n",
    "kr42_5 = kurtosis(data42['5th'].tolist())\n",
    "kr42_7 = kurtosis(data42['7th'].tolist())\n",
    "kr42_8 = kurtosis(data42['8th'].tolist())\n",
    "kr42_9 = kurtosis(data42['9th'].tolist())\n",
    "kr42_10 = kurtosis(data42['10th'].tolist())\n",
    "kr42_12 = kurtosis(data42['12th'].tolist())\n",
    "kr42_13 = kurtosis(data42['13th'].tolist())\n",
    "kr42_14 = kurtosis(data42['14th'].tolist())\n",
    "kr42_15 = kurtosis(data42['15th'].tolist())\n",
    "\n",
    "kr4 = []\n",
    "kr4.append(kr41_2)\n",
    "kr4.append(kr41_3)\n",
    "kr4.append(kr41_4)\n",
    "kr4.append(kr41_5)\n",
    "kr4.append(kr41_7)\n",
    "kr4.append(kr41_8)\n",
    "kr4.append(kr41_9)\n",
    "kr4.append(kr41_10)\n",
    "kr4.append(kr41_12)\n",
    "kr4.append(kr41_13)\n",
    "kr4.append(kr41_14)\n",
    "kr4.append(kr42_2)\n",
    "kr4.append(kr42_3)\n",
    "kr4.append(kr42_4)\n",
    "kr4.append(kr42_5)\n",
    "kr4.append(kr42_7)\n",
    "kr4.append(kr42_8)\n",
    "kr4.append(kr42_9)\n",
    "kr4.append(kr42_10)\n",
    "kr4.append(kr42_12)\n",
    "kr4.append(kr42_13)\n",
    "kr4.append(kr42_14)\n",
    "\n",
    "print(kr2)\n",
    "print(kr3)\n",
    "print(kr4)"
   ]
  },
  {
   "cell_type": "code",
   "execution_count": 29,
   "metadata": {},
   "outputs": [
    {
     "name": "stdout",
     "output_type": "stream",
     "text": [
      "10\n",
      "14\n"
     ]
    }
   ],
   "source": [
    "#k = np.array([1, 2, np.nan, 4, np.nan, 6])\n",
    "new_kr3 = [value for value in kr3 if not np.isnan(value)]\n",
    "print(len(new_kr3))\n",
    "new_kr4 = [value for value in kr4 if not np.isnan(value)]\n",
    "print(len(new_kr4))\n",
    "\n",
    "df_kr = [kr2, new_kr3, new_kr4]"
   ]
  },
  {
   "cell_type": "code",
   "execution_count": 30,
   "metadata": {},
   "outputs": [
    {
     "data": {
      "image/png": "[encoded data removed]",
      "text/plain": [
       "<Figure size 640x480 with 1 Axes>"
      ]
     },
     "metadata": {},
     "output_type": "display_data"
    }
   ],
   "source": [
    "labels = ['2', '3', '4']\n",
    "bp = plt.boxplot(df_kr, labels=labels, showfliers=False)\n",
    "for median in bp['medians']:\n",
    "    median.set(color='black', linewidth=1)\n",
    "for element in ['boxes', 'whiskers', 'caps']:\n",
    "    plt.setp(plt.gca().get_lines(), linewidth=1.5)\n",
    "#plt.yscale('log')\n",
    "plt.xlabel('N', fontsize = 11)\n",
    "plt.ylabel('Kurtosis', fontsize = 11)\n",
    "plt.axhline(y=0, linestyle='--', color='gray', alpha=0.5, zorder=0)\n",
    "\n",
    "plt.show()"
   ]
  },
  {
   "cell_type": "code",
   "execution_count": 31,
   "metadata": {},
   "outputs": [
    {
     "name": "stdout",
     "output_type": "stream",
     "text": [
      "[-0.949862582308047, 8.474233010801177]\n",
      "[2.559205492423769, -7.867480145983573, -6.46849124434901, -0.3853076268301342, nan, -3.052586458623355, 3.058474287927389, -2.8912706745619006, -3.745805720972068, -1.4117226510791279, nan, -1.46160216486612]\n",
      "[4.87888307613181, -7.933025161841382, nan, -3.494905134998733, -0.8514345910616669, 3.13636594283758, nan, -4.210129575609861, nan, 4.0577477274458715, nan, 1.7663438943401732, -7.274343420881622, nan, -3.9818469033231065, -1.511557978713581, 4.597236834382785, nan, -2.0685704049451594, nan, 3.389792665156986, nan]\n"
     ]
    }
   ],
   "source": [
    "\n",
    "\n",
    "sk2_2 = skew(data2['Second Entry'].tolist())\n",
    "sk2_3 = skew(data2['Third Entry'].tolist())\n",
    "\n",
    "sk2 = []\n",
    "sk2.append(sk2_2)\n",
    "sk2.append(sk2_3)\n",
    "\n",
    "sk31_2 = skew(data31['2nd'].tolist())\n",
    "sk31_3 = skew(data31['3rd'].tolist())\n",
    "sk31_4 = skew(data31['4th'].tolist())\n",
    "sk31_6 = skew(data31['6th'].tolist())\n",
    "sk31_7 = skew(data31['7th'].tolist())\n",
    "sk31_8 = skew(data31['8th'].tolist())\n",
    "\n",
    "sk32_2 = skew(data32['2nd'].tolist())\n",
    "sk32_3 = skew(data32['3rd'].tolist())\n",
    "sk32_4 = skew(data32['4th'].tolist())\n",
    "sk32_6 = skew(data32['6th'].tolist())\n",
    "sk32_7 = skew(data32['7th'].tolist())\n",
    "sk32_8 = skew(data32['8th'].tolist())\n",
    "\n",
    "sk3 = []\n",
    "sk3.append(sk31_2)\n",
    "sk3.append(sk31_3)\n",
    "sk3.append(sk31_4)\n",
    "sk3.append(sk31_6)\n",
    "sk3.append(sk31_7)\n",
    "sk3.append(sk31_8)\n",
    "sk3.append(sk32_2)\n",
    "sk3.append(sk32_3)\n",
    "sk3.append(sk32_4)\n",
    "sk3.append(sk32_6)\n",
    "sk3.append(sk32_7)\n",
    "sk3.append(sk32_8)\n",
    "\n",
    "sk41_2 = skew(data41['2nd'].tolist())\n",
    "sk41_3 = skew(data41['3rd'].tolist())\n",
    "sk41_4 = skew(data41['4th'].tolist())\n",
    "sk41_5 = skew(data41['5th'].tolist())\n",
    "sk41_7 = skew(data41['7th'].tolist())\n",
    "sk41_8 = skew(data41['8th'].tolist())\n",
    "sk41_9 = skew(data41['9th'].tolist())\n",
    "sk41_10 = skew(data41['10th'].tolist())\n",
    "sk41_12 = skew(data41['12th'].tolist())\n",
    "sk41_13 = skew(data41['13th'].tolist())\n",
    "sk41_14 = skew(data41['14th'].tolist())\n",
    "sk42_2 = skew(data42['2nd'].tolist())\n",
    "sk42_3 = skew(data42['3rd'].tolist())\n",
    "sk42_4 = skew(data42['4th'].tolist())\n",
    "sk42_5 = skew(data42['5th'].tolist())\n",
    "sk42_7 = skew(data42['7th'].tolist())\n",
    "sk42_8 = skew(data42['8th'].tolist())\n",
    "sk42_9 = skew(data42['9th'].tolist())\n",
    "sk42_10 = skew(data42['10th'].tolist())\n",
    "sk42_12 = skew(data42['12th'].tolist())\n",
    "sk42_13 = skew(data42['13th'].tolist())\n",
    "sk42_14 = skew(data42['14th'].tolist())\n",
    "sk42_15 = skew(data42['15th'].tolist())\n",
    "\n",
    "sk4 = []\n",
    "sk4.append(sk41_2)\n",
    "sk4.append(sk41_3)\n",
    "sk4.append(sk41_4)\n",
    "sk4.append(sk41_5)\n",
    "sk4.append(sk41_7)\n",
    "sk4.append(sk41_8)\n",
    "sk4.append(sk41_9)\n",
    "sk4.append(sk41_10)\n",
    "sk4.append(sk41_12)\n",
    "sk4.append(sk41_13)\n",
    "sk4.append(sk41_14)\n",
    "sk4.append(sk42_2)\n",
    "sk4.append(sk42_3)\n",
    "sk4.append(sk42_4)\n",
    "sk4.append(sk42_5)\n",
    "sk4.append(sk42_7)\n",
    "sk4.append(sk42_8)\n",
    "sk4.append(sk42_9)\n",
    "sk4.append(sk42_10)\n",
    "sk4.append(sk42_12)\n",
    "sk4.append(sk42_13)\n",
    "sk4.append(sk42_14)\n",
    "\n",
    "print(sk2)\n",
    "print(sk3)\n",
    "print(sk4)"
   ]
  },
  {
   "cell_type": "code",
   "execution_count": 32,
   "metadata": {},
   "outputs": [
    {
     "name": "stdout",
     "output_type": "stream",
     "text": [
      "10\n",
      "14\n"
     ]
    }
   ],
   "source": [
    "new_sk3 = [value for value in sk3 if not np.isnan(value)]\n",
    "print(len(new_sk3))\n",
    "new_sk4 = [value for value in sk4 if not np.isnan(value)]\n",
    "print(len(new_sk4))\n",
    "\n",
    "df_sk = [sk2, new_sk3, new_sk4]"
   ]
  },
  {
   "cell_type": "code",
   "execution_count": 33,
   "metadata": {},
   "outputs": [
    {
     "data": {
      "image/png": "[encoded data removed]",
      "text/plain": [
       "<Figure size 640x480 with 1 Axes>"
      ]
     },
     "metadata": {},
     "output_type": "display_data"
    }
   ],
   "source": [
    "labels = ['2', '3', '4']\n",
    "bp = plt.boxplot(df_sk, labels=labels, showfliers=False)\n",
    "for median in bp['medians']:\n",
    "    median.set(color='black', linewidth=1)\n",
    "for element in ['boxes', 'whiskers', 'caps']:\n",
    "    plt.setp(plt.gca().get_lines(), linewidth=1.5)\n",
    "#plt.yscale('log')\n",
    "plt.xlabel('N', fontsize = 11)\n",
    "plt.ylabel('Skewness', fontsize = 11)\n",
    "plt.axhline(y=0, linestyle='--', color='gray', alpha=0.5, zorder=0)\n",
    "\n",
    "plt.show()"
   ]
  }
 ],
 "metadata": {
  "kernelspec": {
   "display_name": "Python 3",
   "language": "python",
   "name": "python3"
  },
  "language_info": {
   "codemirror_mode": {
    "name": "ipython",
    "version": 3
   },
   "file_extension": ".py",
   "mimetype": "text/x-python",
   "name": "python",
   "nbconvert_exporter": "python",
   "pygments_lexer": "ipython3",
   "version": "3.11.3"
  },
  "orig_nbformat": 4
 },
 "nbformat": 4,
 "nbformat_minor": 2
}
