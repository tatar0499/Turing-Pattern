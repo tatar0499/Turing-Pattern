{
 "cells": [
  {
   "attachments": {},
   "cell_type": "markdown",
   "metadata": {},
   "source": [
    "# Figure 8: Surface plots (diffusion parameters)"
   ]
  },
  {
   "cell_type": "code",
   "execution_count": 3,
   "metadata": {},
   "outputs": [],
   "source": [
    "import numpy as np\n",
    "import pandas as pd\n",
    "from scipy.signal import argrelextrema\n",
    "import os\n",
    "import matplotlib.pyplot as plt"
   ]
  },
  {
   "attachments": {},
   "cell_type": "markdown",
   "metadata": {},
   "source": [
    "Define the function that computes percentage of Type 1 Turing instability for the diffusion parameter combinations "
   ]
  },
  {
   "cell_type": "code",
   "execution_count": 7,
   "metadata": {},
   "outputs": [],
   "source": [
    "def calc_Turing(n, vr):\n",
    "    # random matrix generating function\n",
    "    def gen_matrix_F(n, vr):\n",
    "        # Generate random matrix without diffusion\n",
    "        I = np.eye(n)   # Identity matrix representing degradation\n",
    "        mu = 0  # Mean\n",
    "        B = mu + np.sqrt(vr) * np.random.randn(n, n)    # Random matrix generator, allowing diagonal term to be non-zero\n",
    "        np.fill_diagonal(B, 0)\n",
    "        A = -I + B  # Modified matrix form\n",
    "        D = np.zeros((n, n))     # Initialize diffusion matrix\n",
    "        return A, D\n",
    "    \n",
    "    dx = [-3,-2.8,-2.6,-2.4,-2.2,-2,-1.8,-1.6,-1.4,-1.2,-1,-0.8,-0.6,-0.4,-0.2,0,0.2,0.4,0.6,0.8,1,1.2,1.4,1.6,1.8,2,2.2,2.4,2.6,2.8,3]     # diffusion parameter of species X    \n",
    "    dy = [-3,-2.8,-2.6,-2.4,-2.2,-2,-1.8,-1.6,-1.4,-1.2,-1,-0.8,-0.6,-0.4,-0.2,0,0.2,0.4,0.6,0.8,1,1.2,1.4,1.6,1.8,2,2.2,2.4,2.6,2.8,3]     # diffusion parameter of species Y    \n",
    "    dp_list = [(x, y) for x in dx for y in dy]      # list of diffusion parameter combinations\n",
    "    \n",
    "    df = []     # storing % turing instability for each combination\n",
    "  \n",
    "\n",
    "    for d in dp_list:\n",
    "\n",
    "        D = gen_matrix_F(n, vr)[1]      # diagonal matrix\n",
    "        D[0, 0] = 10**d[0]\n",
    "        D[1, 1] = 10**d[1]    \n",
    "        k = np.arange(0, 101, 0.2)      # wavelengths \n",
    "\n",
    "        rm = []     # random matrices\n",
    "        for i in range(1000):\n",
    "            m = gen_matrix_F(n,vr)[0]      \n",
    "            rm.append(m)\n",
    "        srm = []    # stable random matrices \n",
    "        for m in rm:\n",
    "            ev = np.linalg.eigvals(m)\n",
    "            if np.max(np.real(ev)) < 0:\n",
    "                srm.append(m)\n",
    "\n",
    "        # type 1a instability: matrices, real and imaginary eigenvalues\n",
    "        t1a = []\n",
    "        t1ar = []\n",
    "        t1ai = []\n",
    "        # type 1b instability: matrices, real and imaginary eigenvalues\n",
    "        t1b = []\n",
    "        t1br = []\n",
    "        t1bi = []\n",
    "        # type 2a instability: matrices, real and imaginary eigenvalues\n",
    "        t2a = []\n",
    "        t2ar = []\n",
    "        t2ai = []\n",
    "        # type 2b instability: matrices, real and imaginary eigenvalues\n",
    "        t2b = []\n",
    "        t2br = []\n",
    "        t2bi = []\n",
    "\n",
    "        \n",
    "        for m in srm:       # instability analysis for stable random matrices\n",
    "            Em = []\n",
    "            Emi = []\n",
    "            for i in range(len(k)):\n",
    "                R = m - D * (k[i] ** 2)\n",
    "                eigval = np.linalg.eigvals(R)\n",
    "                Em.append(np.max(np.real(eigval)))\n",
    "                idx_max = np.argmax(np.real(eigval))\n",
    "                Emi.append(np.imag(eigval[idx_max]))\n",
    "            a = np.max(Em)\n",
    "            index = np.argmax(Em)\n",
    "            nEm = np.array(Em)\n",
    "            if a > 0:\n",
    "                if Emi[index] == 0:\n",
    "                    numZeroCrossing = np.count_nonzero(np.diff(np.sign(Em)))                    # Count zero crossings\n",
    "                    numpositivelocalmaxima = np.sum(nEm[argrelextrema(nEm,np.greater)]>0) > 0   # Count positive local maxima \n",
    "                    if numpositivelocalmaxima > 0 and numZeroCrossing % 2 == 0:     # condition for type 1a instability\n",
    "                        t1a.append(m)\n",
    "                        t1ar.append(Em)\n",
    "                        t1ai.append(Emi)\n",
    "                    elif numpositivelocalmaxima > 0 and numZeroCrossing == 1:       # condition for type 1b instability\n",
    "                        t1b.append(m)\n",
    "                        t1br.append(Em)\n",
    "                        t1bi.append(Emi)\n",
    "                    elif numpositivelocalmaxima == 0 and numZeroCrossing % 2 == 1:  # condition for type 2a instability\n",
    "                        t2a.append(m)\n",
    "                        t2ar.append(Em)\n",
    "                        t2ai.append(Emi)\n",
    "                    elif numpositivelocalmaxima > 0 and numZeroCrossing % 2 == 1:   # condition for type 2b instability\n",
    "                        t2b.append(m)\n",
    "                        t2br.append(Em)\n",
    "                        t2bi.append(Emi)\n",
    "        percent = (len(t1a)+len(t1b))*0.1\n",
    "        df.append(percent)\n",
    "   \n",
    "    return df"
   ]
  },
  {
   "attachments": {},
   "cell_type": "markdown",
   "metadata": {},
   "source": [
    "Generate data"
   ]
  },
  {
   "cell_type": "code",
   "execution_count": 8,
   "metadata": {},
   "outputs": [],
   "source": [
    "dxdy = calc_Turing(3,1)"
   ]
  },
  {
   "attachments": {},
   "cell_type": "markdown",
   "metadata": {},
   "source": [
    "Generate surface plot"
   ]
  },
  {
   "cell_type": "code",
   "execution_count": 12,
   "metadata": {},
   "outputs": [
    {
     "data": {
      "image/png": "[encoded data removed]",
      "text/plain": [
       "<Figure size 800x600 with 2 Axes>"
      ]
     },
     "metadata": {},
     "output_type": "display_data"
    }
   ],
   "source": [
    "x = np.array([-3,-2.8,-2.6,-2.4,-2.2,-2,-1.8,-1.6,-1.4,-1.2,-1,-0.8,-0.6,-0.4,-0.2,0,0.2,0.4,0.6,0.8,1,1.2,1.4,1.6,1.8,2,2.2,2.4,2.6,2.8,3] )\n",
    "y = np.array([-3,-2.8,-2.6,-2.4,-2.2,-2,-1.8,-1.6,-1.4,-1.2,-1,-0.8,-0.6,-0.4,-0.2,0,0.2,0.4,0.6,0.8,1,1.2,1.4,1.6,1.8,2,2.2,2.4,2.6,2.8,3] )\n",
    "X, Y = np.meshgrid(x, y)\n",
    "Z = np.array([z for z in dxdy\n",
    "             ])\n",
    "Z0 = [Z[i:i + 31] for i in range(0, len(Z), 31)]\n",
    "\n",
    "# Create a colormap plot\n",
    "plt.figure(figsize=(8, 6))\n",
    "colormap = plt.pcolormesh(X, Y, Z0, cmap='viridis')\n",
    "plt.colorbar(colormap)\n",
    "plt.xlabel(r'$log_{10}$$D_{x}$', fontsize = 14)\n",
    "plt.ylabel(r'$log_{10}$$D_{y}$', fontsize = 14)\n",
    "plt.title('N = 3', fontsize = 16,  fontweight = 'bold')\n",
    "plt.show()"
   ]
  }
 ],
 "metadata": {
  "kernelspec": {
   "display_name": "Python 3",
   "language": "python",
   "name": "python3"
  },
  "language_info": {
   "codemirror_mode": {
    "name": "ipython",
    "version": 3
   },
   "file_extension": ".py",
   "mimetype": "text/x-python",
   "name": "python",
   "nbconvert_exporter": "python",
   "pygments_lexer": "ipython3",
   "version": "3.11.3"
  },
  "orig_nbformat": 4
 },
 "nbformat": 4,
 "nbformat_minor": 2
}
