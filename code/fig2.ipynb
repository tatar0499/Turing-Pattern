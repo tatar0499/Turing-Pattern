{
 "cells": [
  {
   "attachments": {},
   "cell_type": "markdown",
   "metadata": {},
   "source": [
    "# Figure 2: Distribution of Jacobian matrix elements"
   ]
  },
  {
   "cell_type": "code",
   "execution_count": 1,
   "metadata": {},
   "outputs": [],
   "source": [
    "import pandas as pd\n",
    "import numpy as np\n",
    "from scipy.stats import distributions\n",
    "import statistics\n",
    "from scipy.stats import skew, kurtosis\n",
    "import matplotlib.pyplot as plt\n",
    "import random\n",
    "import sympy as sp\n",
    "import os\n",
    "import argparse\n",
    "from scipy.signal import argrelextrema\n",
    "from sympy.utilities import lambdify\n",
    "from fitter import Fitter, get_common_distributions, get_distributions\n",
    "import scipy.stats "
   ]
  },
  {
   "attachments": {},
   "cell_type": "markdown",
   "metadata": {},
   "source": [
    "Empirical data from parameter sampling"
   ]
  },
  {
   "cell_type": "code",
   "execution_count": 2,
   "metadata": {},
   "outputs": [
    {
     "data": {
      "text/html": [
       "<div>\n",
       "<style scoped>\n",
       "    .dataframe tbody tr th:only-of-type {\n",
       "        vertical-align: middle;\n",
       "    }\n",
       "\n",
       "    .dataframe tbody tr th {\n",
       "        vertical-align: top;\n",
       "    }\n",
       "\n",
       "    .dataframe thead th {\n",
       "        text-align: right;\n",
       "    }\n",
       "</style>\n",
       "<table border=\"1\" class=\"dataframe\">\n",
       "  <thead>\n",
       "    <tr style=\"text-align: right;\">\n",
       "      <th></th>\n",
       "      <th>First Entry</th>\n",
       "      <th>Second Entry</th>\n",
       "      <th>Third Entry</th>\n",
       "      <th>Fourth Entry</th>\n",
       "    </tr>\n",
       "  </thead>\n",
       "  <tbody>\n",
       "    <tr>\n",
       "      <th>0</th>\n",
       "      <td>0.105125</td>\n",
       "      <td>-0.034808</td>\n",
       "      <td>1.789175</td>\n",
       "      <td>-0.471726</td>\n",
       "    </tr>\n",
       "    <tr>\n",
       "      <th>1</th>\n",
       "      <td>0.194937</td>\n",
       "      <td>-0.257030</td>\n",
       "      <td>1.598743</td>\n",
       "      <td>-0.943998</td>\n",
       "    </tr>\n",
       "    <tr>\n",
       "      <th>2</th>\n",
       "      <td>0.066236</td>\n",
       "      <td>-0.059841</td>\n",
       "      <td>0.848689</td>\n",
       "      <td>-0.259751</td>\n",
       "    </tr>\n",
       "    <tr>\n",
       "      <th>3</th>\n",
       "      <td>0.304850</td>\n",
       "      <td>-0.395355</td>\n",
       "      <td>1.528574</td>\n",
       "      <td>-0.584712</td>\n",
       "    </tr>\n",
       "    <tr>\n",
       "      <th>4</th>\n",
       "      <td>0.125374</td>\n",
       "      <td>-0.291609</td>\n",
       "      <td>1.131442</td>\n",
       "      <td>-0.624166</td>\n",
       "    </tr>\n",
       "  </tbody>\n",
       "</table>\n",
       "</div>"
      ],
      "text/plain": [
       "   First Entry  Second Entry  Third Entry  Fourth Entry\n",
       "0     0.105125     -0.034808     1.789175     -0.471726\n",
       "1     0.194937     -0.257030     1.598743     -0.943998\n",
       "2     0.066236     -0.059841     0.848689     -0.259751\n",
       "3     0.304850     -0.395355     1.528574     -0.584712\n",
       "4     0.125374     -0.291609     1.131442     -0.624166"
      ]
     },
     "execution_count": 2,
     "metadata": {},
     "output_type": "execute_result"
    }
   ],
   "source": [
    "path2 = '/Users/aibekk99/Desktop/publication/code/2x2tr.csv'\n",
    "df2 = pd.read_csv(path2)\n",
    "df2.head()"
   ]
  },
  {
   "attachments": {},
   "cell_type": "markdown",
   "metadata": {},
   "source": [
    "Probability distribution fitting"
   ]
  },
  {
   "cell_type": "code",
   "execution_count": 5,
   "metadata": {},
   "outputs": [
    {
     "name": "stderr",
     "output_type": "stream",
     "text": [
      "Fitting 11 distributions:   0%|          | 0/11 [00:00<?, ?it/s]SKIPPED erlanglevy distribution (taking more than 30 seconds)\n",
      "Fitting 11 distributions: 100%|██████████| 11/11 [00:00<00:00, 66.78it/s]\n",
      "Fitting 11 distributions:   0%|          | 0/11 [00:00<?, ?it/s]SKIPPED erlanglevy distribution (taking more than 30 seconds)\n",
      "Fitting 11 distributions: 100%|██████████| 11/11 [00:00<00:00, 58.64it/s]\n",
      "Fitting 11 distributions:   0%|          | 0/11 [00:00<?, ?it/s]SKIPPED erlanglevy distribution (taking more than 30 seconds)\n",
      "Fitting 11 distributions: 100%|██████████| 11/11 [00:00<00:00, 61.93it/s]\n",
      "Fitting 11 distributions:   0%|          | 0/11 [00:00<?, ?it/s]SKIPPED erlanglevy distribution (taking more than 30 seconds)\n",
      "Fitting 11 distributions: 100%|██████████| 11/11 [00:00<00:00, 59.32it/s]\n"
     ]
    }
   ],
   "source": [
    "# fitting distributions\n",
    "entry1 = df2['First Entry']\n",
    "entry2 = df2['Second Entry']\n",
    "entry3 = df2['Third Entry']\n",
    "entry4 = df2['Fourth Entry']\n",
    "\n",
    "def fitter(entry):\n",
    "    f = Fitter(np.array(entry, dtype=float),\n",
    "           distributions=['gamma',\n",
    "                          'lognorm',\n",
    "                          \"expon\",\n",
    "                          \"beta\",\n",
    "                          \"burr\",\n",
    "                          \"norm\",\n",
    "                          \"uniform\",\n",
    "                          \"cauchy\",\n",
    "                          \"chi\",\n",
    "                          \"erlang\"\n",
    "                          \"levy\",\n",
    "                          \"rayleigh\"])\n",
    "    f.fit()\n",
    "    fit = f.fitted_param.get('beta', None)\n",
    "    return fit\n",
    "\n",
    "#f.fit()\n",
    "#f.summary()\n",
    "\n",
    "# beta distribution parameters \n",
    "params1 = fitter(entry1)\n",
    "params2 = fitter(entry2)\n",
    "params3 = fitter(entry3)\n",
    "params4 = fitter(entry4)"
   ]
  },
  {
   "attachments": {},
   "cell_type": "markdown",
   "metadata": {},
   "source": [
    "Plotting the fitted distributions"
   ]
  },
  {
   "cell_type": "code",
   "execution_count": 7,
   "metadata": {},
   "outputs": [
    {
     "data": {
      "text/plain": [
       "[]"
      ]
     },
     "execution_count": 7,
     "metadata": {},
     "output_type": "execute_result"
    },
    {
     "data": {
      "image/png": "[encoded data removed]",
      "text/plain": [
       "<Figure size 640x480 with 4 Axes>"
      ]
     },
     "metadata": {},
     "output_type": "display_data"
    }
   ],
   "source": [
    "# plotting distributions\n",
    "fig, axs = plt.subplots(2, 2)\n",
    "fig.tight_layout()\n",
    "\n",
    "#axs.set_yscale('log')\n",
    "x1 = np.linspace(np.min(np.array(entry1, dtype=float)), np.max(np.array(entry1, dtype=float)))\n",
    "axs[0,0].plot(x1, scipy.stats.beta.pdf(x1, params1[0], params1[1], loc=params1[2], scale=params1[3]),)\n",
    "axs[0,0].set_xticks([])\n",
    "axs[0,0].set_yticks([])\n",
    "#axs[0,0].set_title('Gamma Distribution', fontsize = 10, fontweight = 'bold')\n",
    "#\n",
    "x2 = np.linspace(np.min(np.array(entry2, dtype=float)), np.max(np.array(entry2, dtype=float)))\n",
    "axs[0,1].plot(x2, scipy.stats.beta.pdf(x2, params2[0], params2[1], loc=params2[2], scale=params2[3]),)\n",
    "axs[0,1].set_xticks([])\n",
    "axs[0,1].set_yticks([])\n",
    "#axs[0,1].set_title('Gamma Distribution', fontsize = 10, fontweight = 'bold')\n",
    "#\n",
    "x3 = np.linspace(np.min(np.array(entry3, dtype=float)), np.max(np.array(entry3, dtype=float)))\n",
    "axs[1,0].plot(x3, scipy.stats.beta.pdf(x3, params3[0], params3[1], loc=params3[2], scale=params3[3]),)\n",
    "axs[1,0].set_xticks([])\n",
    "axs[1,0].set_yticks([])\n",
    "#axs[1,0].set_title('Exponential Distribution', fontsize = 10, fontweight = 'bold')\n",
    "#\n",
    "x4 = np.linspace(np.min(np.array(entry4, dtype=float)), np.max(np.array(entry4, dtype=float)))\n",
    "axs[1,1].plot(x4, scipy.stats.beta.pdf(x4, params4[0], params4[1], loc=params4[2], scale=params4[3]),)\n",
    "axs[1,1].set_xticks([])\n",
    "axs[1,1].set_yticks([])"
   ]
  }
 ],
 "metadata": {
  "kernelspec": {
   "display_name": "Python 3",
   "language": "python",
   "name": "python3"
  },
  "language_info": {
   "codemirror_mode": {
    "name": "ipython",
    "version": 3
   },
   "file_extension": ".py",
   "mimetype": "text/x-python",
   "name": "python",
   "nbconvert_exporter": "python",
   "pygments_lexer": "ipython3",
   "version": "3.11.3"
  },
  "orig_nbformat": 4
 },
 "nbformat": 4,
 "nbformat_minor": 2
}
